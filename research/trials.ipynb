{
 "cells": [
  {
   "cell_type": "code",
   "execution_count": 1,
   "id": "642b0a6b",
   "metadata": {},
   "outputs": [],
   "source": [
    "d = {\"key\":\"val\", \"key1\":\"val1\"} "
   ]
  },
  {
   "cell_type": "code",
   "execution_count": null,
   "id": "4f43f8d2",
   "metadata": {},
   "outputs": [
    {
     "data": {
      "text/plain": [
       "'val'"
      ]
     },
     "execution_count": 2,
     "metadata": {},
     "output_type": "execute_result"
    }
   ],
   "source": [
    "d['key']   # this way we can read dictionary"
   ]
  },
  {
   "cell_type": "code",
   "execution_count": 3,
   "id": "5762449c",
   "metadata": {},
   "outputs": [
    {
     "ename": "AttributeError",
     "evalue": "'dict' object has no attribute 'key'",
     "output_type": "error",
     "traceback": [
      "\u001b[31m---------------------------------------------------------------------------\u001b[39m",
      "\u001b[31mAttributeError\u001b[39m                            Traceback (most recent call last)",
      "\u001b[36mCell\u001b[39m\u001b[36m \u001b[39m\u001b[32mIn[3]\u001b[39m\u001b[32m, line 1\u001b[39m\n\u001b[32m----> \u001b[39m\u001b[32m1\u001b[39m \u001b[43md\u001b[49m\u001b[43m.\u001b[49m\u001b[43mkey\u001b[49m  \u001b[38;5;66;03m# but this way we cant use output\u001b[39;00m\n",
      "\u001b[31mAttributeError\u001b[39m: 'dict' object has no attribute 'key'"
     ]
    }
   ],
   "source": [
    "d.key  # but this way we cant use output"
   ]
  },
  {
   "cell_type": "code",
   "execution_count": 12,
   "id": "915d7770",
   "metadata": {},
   "outputs": [],
   "source": [
    "from box import ConfigBox    \n",
    "\"\"\" \n",
    "this library will help to read dictionary like d.key way also\n",
    "Doing all this becoz yaml file we have to access and for that this will be easy way     \n",
    "\"\"\" \n",
    "d2 = ConfigBox({\"key\":\"val\", \"key1\":\"val1\"} )"
   ]
  },
  {
   "cell_type": "code",
   "execution_count": 13,
   "id": "41f61c56",
   "metadata": {},
   "outputs": [
    {
     "data": {
      "text/plain": [
       "'val'"
      ]
     },
     "execution_count": 13,
     "metadata": {},
     "output_type": "execute_result"
    }
   ],
   "source": [
    "d2.key"
   ]
  },
  {
   "cell_type": "code",
   "execution_count": 15,
   "id": "3ac86933",
   "metadata": {},
   "outputs": [],
   "source": [
    "# solving second problem\n",
    "def pro(x:int, y:int)->int:\n",
    "    return x*y"
   ]
  },
  {
   "cell_type": "code",
   "execution_count": 16,
   "id": "f415ff22",
   "metadata": {},
   "outputs": [
    {
     "data": {
      "text/plain": [
       "8"
      ]
     },
     "execution_count": 16,
     "metadata": {},
     "output_type": "execute_result"
    }
   ],
   "source": [
    "pro(x=2, y=4)"
   ]
  },
  {
   "cell_type": "code",
   "execution_count": null,
   "id": "1e275aa4",
   "metadata": {},
   "outputs": [
    {
     "data": {
      "text/plain": [
       "'44'"
      ]
     },
     "execution_count": 18,
     "metadata": {},
     "output_type": "execute_result"
    }
   ],
   "source": [
    "# but when i doing this giving me string value even mantioning int as output function so to\n",
    "# resolve this we use ensure libary \n",
    "pro(x=2, y=\"4\")"
   ]
  },
  {
   "cell_type": "code",
   "execution_count": 27,
   "id": "67a1304d",
   "metadata": {},
   "outputs": [],
   "source": [
    "#from ensure import ensure_annotations\n",
    "from typeguard import typechecked\n",
    "from beartype import beartype\n"
   ]
  },
  {
   "cell_type": "code",
   "execution_count": 28,
   "id": "6430dd57",
   "metadata": {},
   "outputs": [],
   "source": [
    "@beartype\n",
    "def pro(x:int, y:int)->int:\n",
    "    return x*y"
   ]
  },
  {
   "cell_type": "code",
   "execution_count": null,
   "id": "02f11e06",
   "metadata": {},
   "outputs": [
    {
     "ename": "BeartypeCallHintParamViolation",
     "evalue": "Function __main__.pro() parameter y='4' violates type hint <class 'int'>, as str '4' not instance of int.",
     "output_type": "error",
     "traceback": [
      "\u001b[31m---------------------------------------------------------------------------\u001b[39m",
      "\u001b[31mBeartypeCallHintParamViolation\u001b[39m            Traceback (most recent call last)",
      "\u001b[36mCell\u001b[39m\u001b[36m \u001b[39m\u001b[32mIn[29]\u001b[39m\u001b[32m, line 1\u001b[39m\n\u001b[32m----> \u001b[39m\u001b[32m1\u001b[39m \u001b[43mpro\u001b[49m\u001b[43m(\u001b[49m\u001b[43mx\u001b[49m\u001b[43m=\u001b[49m\u001b[32;43m2\u001b[39;49m\u001b[43m,\u001b[49m\u001b[43m \u001b[49m\u001b[43my\u001b[49m\u001b[43m=\u001b[49m\u001b[33;43m\"\u001b[39;49m\u001b[33;43m4\u001b[39;49m\u001b[33;43m\"\u001b[39;49m\u001b[43m)\u001b[49m\n",
      "\u001b[36mFile \u001b[39m\u001b[32m<@beartype(__main__.pro) at 0x28985720680>:46\u001b[39m, in \u001b[36mpro\u001b[39m\u001b[34m(__beartype_get_violation, __beartype_conf, __beartype_check_meta, __beartype_func, *args, **kwargs)\u001b[39m\n",
      "\u001b[31mBeartypeCallHintParamViolation\u001b[39m: Function __main__.pro() parameter y='4' violates type hint <class 'int'>, as str '4' not instance of int."
     ]
    }
   ],
   "source": [
    "pro(x=2, y=\"4\")  # this it will through errror"
   ]
  }
 ],
 "metadata": {
  "kernelspec": {
   "display_name": "myenv",
   "language": "python",
   "name": "python3"
  },
  "language_info": {
   "codemirror_mode": {
    "name": "ipython",
    "version": 3
   },
   "file_extension": ".py",
   "mimetype": "text/x-python",
   "name": "python",
   "nbconvert_exporter": "python",
   "pygments_lexer": "ipython3",
   "version": "3.12.4"
  }
 },
 "nbformat": 4,
 "nbformat_minor": 5
}
